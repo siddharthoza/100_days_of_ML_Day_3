{
 "cells": [
  {
   "cell_type": "markdown",
   "metadata": {},
   "source": [
    "### Handling Missing values"
   ]
  },
  {
   "cell_type": "code",
   "execution_count": 21,
   "metadata": {},
   "outputs": [],
   "source": [
    "import numpy as np\n",
    "import pandas as pd"
   ]
  },
  {
   "cell_type": "code",
   "execution_count": 58,
   "metadata": {},
   "outputs": [],
   "source": [
    "data=pd.read_csv('Main_1.csv', encoding='iso-8859-1')"
   ]
  },
  {
   "cell_type": "code",
   "execution_count": 59,
   "metadata": {},
   "outputs": [],
   "source": [
    "data=data.drop(columns=['Unnamed: 0'])"
   ]
  },
  {
   "cell_type": "code",
   "execution_count": 60,
   "metadata": {},
   "outputs": [
    {
     "data": {
      "text/html": [
       "<div>\n",
       "<style scoped>\n",
       "    .dataframe tbody tr th:only-of-type {\n",
       "        vertical-align: middle;\n",
       "    }\n",
       "\n",
       "    .dataframe tbody tr th {\n",
       "        vertical-align: top;\n",
       "    }\n",
       "\n",
       "    .dataframe thead th {\n",
       "        text-align: right;\n",
       "    }\n",
       "</style>\n",
       "<table border=\"1\" class=\"dataframe\">\n",
       "  <thead>\n",
       "    <tr style=\"text-align: right;\">\n",
       "      <th></th>\n",
       "      <th>UPC Code</th>\n",
       "    </tr>\n",
       "  </thead>\n",
       "  <tbody>\n",
       "    <tr>\n",
       "      <th>count</th>\n",
       "      <td>4.332000e+03</td>\n",
       "    </tr>\n",
       "    <tr>\n",
       "      <th>mean</th>\n",
       "      <td>2.305540e+12</td>\n",
       "    </tr>\n",
       "    <tr>\n",
       "      <th>std</th>\n",
       "      <td>2.780785e+12</td>\n",
       "    </tr>\n",
       "    <tr>\n",
       "      <th>min</th>\n",
       "      <td>1.320507e+10</td>\n",
       "    </tr>\n",
       "    <tr>\n",
       "      <th>25%</th>\n",
       "      <td>7.964833e+11</td>\n",
       "    </tr>\n",
       "    <tr>\n",
       "      <th>50%</th>\n",
       "      <td>8.478641e+11</td>\n",
       "    </tr>\n",
       "    <tr>\n",
       "      <th>75%</th>\n",
       "      <td>3.760256e+12</td>\n",
       "    </tr>\n",
       "    <tr>\n",
       "      <th>max</th>\n",
       "      <td>8.479986e+12</td>\n",
       "    </tr>\n",
       "  </tbody>\n",
       "</table>\n",
       "</div>"
      ],
      "text/plain": [
       "           UPC Code\n",
       "count  4.332000e+03\n",
       "mean   2.305540e+12\n",
       "std    2.780785e+12\n",
       "min    1.320507e+10\n",
       "25%    7.964833e+11\n",
       "50%    8.478641e+11\n",
       "75%    3.760256e+12\n",
       "max    8.479986e+12"
      ]
     },
     "execution_count": 60,
     "metadata": {},
     "output_type": "execute_result"
    }
   ],
   "source": [
    "data.describe()"
   ]
  },
  {
   "cell_type": "code",
   "execution_count": 61,
   "metadata": {},
   "outputs": [
    {
     "data": {
      "text/html": [
       "<div>\n",
       "<style scoped>\n",
       "    .dataframe tbody tr th:only-of-type {\n",
       "        vertical-align: middle;\n",
       "    }\n",
       "\n",
       "    .dataframe tbody tr th {\n",
       "        vertical-align: top;\n",
       "    }\n",
       "\n",
       "    .dataframe thead th {\n",
       "        text-align: right;\n",
       "    }\n",
       "</style>\n",
       "<table border=\"1\" class=\"dataframe\">\n",
       "  <thead>\n",
       "    <tr style=\"text-align: right;\">\n",
       "      <th></th>\n",
       "      <th>URL</th>\n",
       "      <th>Product Name</th>\n",
       "      <th>Product Description</th>\n",
       "      <th>original Price</th>\n",
       "      <th>Discounted Price</th>\n",
       "      <th>Discount</th>\n",
       "      <th>Availability</th>\n",
       "      <th>Band Type</th>\n",
       "      <th>Band Width</th>\n",
       "      <th>Bezel Material</th>\n",
       "      <th>...</th>\n",
       "      <th>Model</th>\n",
       "      <th>Movement</th>\n",
       "      <th>Series</th>\n",
       "      <th>Style</th>\n",
       "      <th>Product Category</th>\n",
       "      <th>Sub Dials</th>\n",
       "      <th>UPC Code</th>\n",
       "      <th>Warranty</th>\n",
       "      <th>Water Resistance</th>\n",
       "      <th>SKU</th>\n",
       "    </tr>\n",
       "  </thead>\n",
       "  <tbody>\n",
       "    <tr>\n",
       "      <th>0</th>\n",
       "      <td>https://www.worldofwatches.com/mens-dome-stain...</td>\n",
       "      <td>Adee Kaye</td>\n",
       "      <td>Men's Dome Stainless Steel Silver Dial</td>\n",
       "      <td>$345.00</td>\n",
       "      <td>$123.98</td>\n",
       "      <td>\\r\\n64%</td>\n",
       "      <td>Usually Ships In 1 - 3 Business Days</td>\n",
       "      <td>Bracelet</td>\n",
       "      <td>22 mm</td>\n",
       "      <td>Fixed Rose Gold-tone</td>\n",
       "      <td>...</td>\n",
       "      <td>AK8224-LRGWT</td>\n",
       "      <td>Quartz</td>\n",
       "      <td>Dome</td>\n",
       "      <td>Dress Watches</td>\n",
       "      <td>Watches</td>\n",
       "      <td>NaN</td>\n",
       "      <td>8.140190e+11</td>\n",
       "      <td>With Manufacturers Guarantee</td>\n",
       "      <td>50 meters / 165 feet</td>\n",
       "      <td>AKY-AK8224LRGWT</td>\n",
       "    </tr>\n",
       "    <tr>\n",
       "      <th>1</th>\n",
       "      <td>https://www.worldofwatches.com/mens-classic-ch...</td>\n",
       "      <td>Bulova</td>\n",
       "      <td>Men's Classic Chronograph Stainless Steel Blac...</td>\n",
       "      <td>$450.00</td>\n",
       "      <td>$197.98</td>\n",
       "      <td>\\r\\n56%</td>\n",
       "      <td>In Stock - Available for Immediate Shipment!</td>\n",
       "      <td>Bracelet</td>\n",
       "      <td>NaN</td>\n",
       "      <td>Fixed</td>\n",
       "      <td>...</td>\n",
       "      <td>96B288</td>\n",
       "      <td>Quartz</td>\n",
       "      <td>Classic</td>\n",
       "      <td>Casual Watches</td>\n",
       "      <td>Watches</td>\n",
       "      <td>Three - 60 Second, 60 Minute and 1/10th of a S...</td>\n",
       "      <td>4.242956e+10</td>\n",
       "      <td>2 Year WatchCenter Warranty</td>\n",
       "      <td>30 meters / 100 feet</td>\n",
       "      <td>BUL96B288</td>\n",
       "    </tr>\n",
       "    <tr>\n",
       "      <th>2</th>\n",
       "      <td>https://www.worldofwatches.com/mens-piccard-le...</td>\n",
       "      <td>Heritor</td>\n",
       "      <td>Men's Piccard Leather White Dial</td>\n",
       "      <td>$1,400.00</td>\n",
       "      <td>$521.99</td>\n",
       "      <td>\\r\\n63%</td>\n",
       "      <td>Usually Ships In 1 - 3 Business Days</td>\n",
       "      <td>Strap</td>\n",
       "      <td>24 mm</td>\n",
       "      <td>Fixed Fluted Gold-tone</td>\n",
       "      <td>...</td>\n",
       "      <td>HR2003</td>\n",
       "      <td>Automatic</td>\n",
       "      <td>Piccard</td>\n",
       "      <td>Dress Watches</td>\n",
       "      <td>Watches</td>\n",
       "      <td>Two: Day of the Week and Date</td>\n",
       "      <td>8.478641e+11</td>\n",
       "      <td>With Manufacturers Guarantee</td>\n",
       "      <td>50 meters / 165 feet</td>\n",
       "      <td>HRT-HR2003</td>\n",
       "    </tr>\n",
       "    <tr>\n",
       "      <th>3</th>\n",
       "      <td>https://www.worldofwatches.com/mens-coil-leath...</td>\n",
       "      <td>Equipe Tritium</td>\n",
       "      <td>Men's Coil Leather Orange Dial</td>\n",
       "      <td>$599.00</td>\n",
       "      <td>$222.98</td>\n",
       "      <td>\\r\\n63%</td>\n",
       "      <td>Usually Ships In 1 - 3 Business Days</td>\n",
       "      <td>Strap</td>\n",
       "      <td>30 mm</td>\n",
       "      <td>NaN</td>\n",
       "      <td>...</td>\n",
       "      <td>ET109</td>\n",
       "      <td>Quartz</td>\n",
       "      <td>Coil</td>\n",
       "      <td>Sport Watches</td>\n",
       "      <td>Watches</td>\n",
       "      <td>Two - Date and Day</td>\n",
       "      <td>8.478641e+11</td>\n",
       "      <td>With Manufacturers Guarantee</td>\n",
       "      <td>200 meters / 660 feet</td>\n",
       "      <td>EQUET109</td>\n",
       "    </tr>\n",
       "    <tr>\n",
       "      <th>4</th>\n",
       "      <td>https://www.worldofwatches.com/bosphorus-black...</td>\n",
       "      <td>Lucien Piccard</td>\n",
       "      <td>Bosphorus Black Genuine Leather Blue and Silve...</td>\n",
       "      <td>$645.00</td>\n",
       "      <td>$63.98</td>\n",
       "      <td>\\r\\n90%</td>\n",
       "      <td>In Stock - Available for Immediate Shipment!</td>\n",
       "      <td>Strap</td>\n",
       "      <td>20 mm</td>\n",
       "      <td>NaN</td>\n",
       "      <td>...</td>\n",
       "      <td>LP-40046-RG-03-SC</td>\n",
       "      <td>Quartz</td>\n",
       "      <td>Bosphorus</td>\n",
       "      <td>Dress Watches</td>\n",
       "      <td>Watches</td>\n",
       "      <td>60 second</td>\n",
       "      <td>7.226305e+11</td>\n",
       "      <td>2 Year WatchCenter Warranty</td>\n",
       "      <td>30 meters / 100 feet</td>\n",
       "      <td>LP-40046-RG-03-SC</td>\n",
       "    </tr>\n",
       "  </tbody>\n",
       "</table>\n",
       "<p>5 rows × 38 columns</p>\n",
       "</div>"
      ],
      "text/plain": [
       "                                                 URL    Product Name  \\\n",
       "0  https://www.worldofwatches.com/mens-dome-stain...       Adee Kaye   \n",
       "1  https://www.worldofwatches.com/mens-classic-ch...          Bulova   \n",
       "2  https://www.worldofwatches.com/mens-piccard-le...         Heritor   \n",
       "3  https://www.worldofwatches.com/mens-coil-leath...  Equipe Tritium   \n",
       "4  https://www.worldofwatches.com/bosphorus-black...  Lucien Piccard   \n",
       "\n",
       "                                 Product Description original Price  \\\n",
       "0             Men's Dome Stainless Steel Silver Dial        $345.00   \n",
       "1  Men's Classic Chronograph Stainless Steel Blac...        $450.00   \n",
       "2                   Men's Piccard Leather White Dial      $1,400.00   \n",
       "3                     Men's Coil Leather Orange Dial        $599.00   \n",
       "4  Bosphorus Black Genuine Leather Blue and Silve...        $645.00   \n",
       "\n",
       "  Discounted Price Discount                                  Availability  \\\n",
       "0          $123.98  \\r\\n64%          Usually Ships In 1 - 3 Business Days   \n",
       "1          $197.98  \\r\\n56%  In Stock - Available for Immediate Shipment!   \n",
       "2          $521.99  \\r\\n63%          Usually Ships In 1 - 3 Business Days   \n",
       "3          $222.98  \\r\\n63%          Usually Ships In 1 - 3 Business Days   \n",
       "4           $63.98  \\r\\n90%  In Stock - Available for Immediate Shipment!   \n",
       "\n",
       "  Band Type Band Width          Bezel Material        ...          \\\n",
       "0  Bracelet      22 mm    Fixed Rose Gold-tone        ...           \n",
       "1  Bracelet        NaN                   Fixed        ...           \n",
       "2     Strap      24 mm  Fixed Fluted Gold-tone        ...           \n",
       "3     Strap      30 mm                     NaN        ...           \n",
       "4     Strap      20 mm                     NaN        ...           \n",
       "\n",
       "               Model   Movement     Series           Style Product Category  \\\n",
       "0       AK8224-LRGWT     Quartz       Dome   Dress Watches          Watches   \n",
       "1             96B288     Quartz    Classic  Casual Watches          Watches   \n",
       "2             HR2003  Automatic    Piccard   Dress Watches          Watches   \n",
       "3              ET109     Quartz       Coil   Sport Watches          Watches   \n",
       "4  LP-40046-RG-03-SC     Quartz  Bosphorus   Dress Watches          Watches   \n",
       "\n",
       "                                           Sub Dials      UPC Code  \\\n",
       "0                                                NaN  8.140190e+11   \n",
       "1  Three - 60 Second, 60 Minute and 1/10th of a S...  4.242956e+10   \n",
       "2                      Two: Day of the Week and Date  8.478641e+11   \n",
       "3                                 Two - Date and Day  8.478641e+11   \n",
       "4                                          60 second  7.226305e+11   \n",
       "\n",
       "                       Warranty       Water Resistance                SKU  \n",
       "0  With Manufacturers Guarantee   50 meters / 165 feet    AKY-AK8224LRGWT  \n",
       "1   2 Year WatchCenter Warranty   30 meters / 100 feet          BUL96B288  \n",
       "2  With Manufacturers Guarantee   50 meters / 165 feet         HRT-HR2003  \n",
       "3  With Manufacturers Guarantee  200 meters / 660 feet           EQUET109  \n",
       "4   2 Year WatchCenter Warranty   30 meters / 100 feet  LP-40046-RG-03-SC  \n",
       "\n",
       "[5 rows x 38 columns]"
      ]
     },
     "execution_count": 61,
     "metadata": {},
     "output_type": "execute_result"
    }
   ],
   "source": [
    "data.head()"
   ]
  },
  {
   "cell_type": "code",
   "execution_count": 68,
   "metadata": {},
   "outputs": [
    {
     "data": {
      "text/plain": [
       "(4800, 38)"
      ]
     },
     "execution_count": 68,
     "metadata": {},
     "output_type": "execute_result"
    }
   ],
   "source": [
    "data.shape"
   ]
  },
  {
   "cell_type": "code",
   "execution_count": 63,
   "metadata": {},
   "outputs": [
    {
     "data": {
      "text/plain": [
       "URL                       0\n",
       "Product Name              0\n",
       "Product Description       0\n",
       "original Price            0\n",
       "Discounted Price          0\n",
       "Discount                 32\n",
       "Availability              0\n",
       "Band Type               109\n",
       "Band Width              890\n",
       "Bezel Material          216\n",
       "Calendar               1321\n",
       "Case Back               530\n",
       "Case Diameter             7\n",
       "Case Material             2\n",
       "Case Shape                8\n",
       "Case Thickness          678\n",
       "Clasp                   283\n",
       "Crystal                  55\n",
       "Dial Color                5\n",
       "Dial Type                 4\n",
       "Engine                 2560\n",
       "Features                 64\n",
       "Functions                 2\n",
       "Gender                    0\n",
       "Hands                   181\n",
       "Luminiscence           1832\n",
       "Brand                     0\n",
       "Manufacture Country    1740\n",
       "Model                     0\n",
       "Movement                  2\n",
       "Series                 1032\n",
       "Style                   112\n",
       "Product Category          0\n",
       "Sub Dials              2638\n",
       "UPC Code                468\n",
       "Warranty                  3\n",
       "Water Resistance        130\n",
       "SKU                       0\n",
       "dtype: int64"
      ]
     },
     "execution_count": 63,
     "metadata": {},
     "output_type": "execute_result"
    }
   ],
   "source": [
    "data.isna().sum()"
   ]
  },
  {
   "cell_type": "code",
   "execution_count": 74,
   "metadata": {},
   "outputs": [],
   "source": [
    "newData=data[:]"
   ]
  },
  {
   "cell_type": "code",
   "execution_count": null,
   "metadata": {},
   "outputs": [],
   "source": [
    "# Listwise deletion\n",
    "newData.dropna()"
   ]
  },
  {
   "cell_type": "code",
   "execution_count": 80,
   "metadata": {},
   "outputs": [
    {
     "data": {
      "text/plain": [
       "(359, 38)"
      ]
     },
     "execution_count": 80,
     "metadata": {},
     "output_type": "execute_result"
    }
   ],
   "source": [
    "newData.shape"
   ]
  },
  {
   "cell_type": "code",
   "execution_count": null,
   "metadata": {},
   "outputs": [],
   "source": []
  }
 ],
 "metadata": {
  "kernelspec": {
   "display_name": "Python 3",
   "language": "python",
   "name": "python3"
  },
  "language_info": {
   "codemirror_mode": {
    "name": "ipython",
    "version": 3
   },
   "file_extension": ".py",
   "mimetype": "text/x-python",
   "name": "python",
   "nbconvert_exporter": "python",
   "pygments_lexer": "ipython3",
   "version": "3.6.5"
  }
 },
 "nbformat": 4,
 "nbformat_minor": 2
}
